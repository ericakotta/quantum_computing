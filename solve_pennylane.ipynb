{
 "cells": [
  {
   "cell_type": "code",
   "execution_count": 7,
   "metadata": {},
   "outputs": [],
   "source": [
    "'''\n",
    "Get the explicit 2-qubit representation of the matrix U\n",
    "in the PennyLane Code Camp Challenge problem, described in \n",
    "PennyLane video https://www.youtube.com/watch?v=6fM8FatYWt8\n",
    "\n",
    "Written by Erica Kotta\n",
    "'''\n",
    "import numpy as np\n",
    "from scipy.linalg import sqrtm"
   ]
  },
  {
   "cell_type": "code",
   "execution_count": 5,
   "metadata": {},
   "outputs": [],
   "source": [
    "'''\n",
    "Set up the matrices representing the gates we know.\n",
    "For an explicit example on how to re-derive\n",
    "these, refer to find_matrix_form_example.pdf.\n",
    "'''\n",
    "# Define the CNOT gate (control is qubit 1)\n",
    "A = np.array(\n",
    "    [\n",
    "        [1., 0., 0., 0.],\n",
    "        [0., 1., 0., 0.],\n",
    "        [0., 0., 0., 1.],\n",
    "        [0., 0., 1., 0.],\n",
    "    ],\n",
    ")\n",
    "\n",
    "# Define the double (parallel) Hadamards\n",
    "B = 0.5 * np.array(\n",
    "    [\n",
    "        [1., 1., 1., 1.],\n",
    "        [1., -1., 1., -1.],\n",
    "        [1., 1., -1., -1.],\n",
    "        [1., -1., -1., 1.],\n",
    "    ],\n",
    ")\n",
    "\n",
    "# Define the CNOT with qubit 2 as control\n",
    "C = np.array(\n",
    "    [\n",
    "        [1., 0., 0., 0.],\n",
    "        [0., 0., 0., 1.],\n",
    "        [0., 0., 1., 0.],\n",
    "        [0., 1., 0., 0.],\n",
    "    ]\n",
    ")\n",
    "\n",
    "# Define the SWAP gate\n",
    "S = np.array(\n",
    "    [\n",
    "        [1., 0., 0., 0.],\n",
    "        [0., 0., 1., 0.],\n",
    "        [0., 1., 0., 0.],\n",
    "        [0., 0., 0., 1.],\n",
    "    ]\n",
    ")\n",
    "\n",
    "# Precalculate inverse of these matrices for cleaner code later\n",
    "B_inv = np.linalg.inv(B)\n",
    "C_inv = np.linalg.inv(C)"
   ]
  },
  {
   "cell_type": "code",
   "execution_count": 21,
   "metadata": {},
   "outputs": [
    {
     "name": "stdout",
     "output_type": "stream",
     "text": [
      "U matrix: \n",
      "[[1. +0.j  0. +0.j  0. +0.j  0. +0.j ]\n",
      " [0. +0.j  0. +0.j  0. +0.j  1. +0.j ]\n",
      " [0. +0.j  0.5-0.5j 0.5+0.5j 0. +0.j ]\n",
      " [0. +0.j  0.5+0.5j 0.5-0.5j 0. +0.j ]]\n"
     ]
    }
   ],
   "source": [
    "# Apply the operations as written out in README to get final form of U:\n",
    "U = np.matmul(S, B_inv)\n",
    "for mat in [A, B_inv, C]:\n",
    "    U = np.matmul(mat, U)\n",
    "U = np.matmul(C_inv, sqrtm(U))\n",
    "\n",
    "print(f\"U matrix: \\n{U}\")"
   ]
  },
  {
   "cell_type": "code",
   "execution_count": 23,
   "metadata": {},
   "outputs": [
    {
     "name": "stdout",
     "output_type": "stream",
     "text": [
      "Final circuit with U: \n",
      "[[1.+0.j 0.+0.j 0.-0.j 0.+0.j]\n",
      " [0.+0.j 0.+0.j 1.+0.j 0.-0.j]\n",
      " [0.-0.j 1.+0.j 0.+0.j 0.+0.j]\n",
      " [0.+0.j 0.-0.j 0.+0.j 1.+0.j]]\n",
      "\n",
      "Compare to SWAP gate: \n",
      "[[1. 0. 0. 0.]\n",
      " [0. 0. 1. 0.]\n",
      " [0. 1. 0. 0.]\n",
      " [0. 0. 0. 1.]]\n"
     ]
    }
   ],
   "source": [
    "# Check: plug in U to the complete circuit and make sure it matches SWAP gate\n",
    "circuit = np.matmul(U, B)\n",
    "for mat in [C, U, B, A]:\n",
    "    circuit = np.matmul(mat, circuit)\n",
    "print(f\"Final circuit with U: \\n{circuit.round()}\")\n",
    "print(f\"\\nCompare to SWAP gate: \\n{S}\")"
   ]
  },
  {
   "cell_type": "markdown",
   "metadata": {},
   "source": [
    "✌️"
   ]
  }
 ],
 "metadata": {
  "kernelspec": {
   "display_name": "base",
   "language": "python",
   "name": "python3"
  },
  "language_info": {
   "codemirror_mode": {
    "name": "ipython",
    "version": 3
   },
   "file_extension": ".py",
   "mimetype": "text/x-python",
   "name": "python",
   "nbconvert_exporter": "python",
   "pygments_lexer": "ipython3",
   "version": "3.11.5"
  }
 },
 "nbformat": 4,
 "nbformat_minor": 2
}
