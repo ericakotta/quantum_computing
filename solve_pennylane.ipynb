{
 "cells": [
  {
   "cell_type": "code",
   "execution_count": 2,
   "metadata": {},
   "outputs": [],
   "source": [
    "import numpy as np\n",
    "from scipy.linalg import sqrtm"
   ]
  },
  {
   "cell_type": "code",
   "execution_count": 5,
   "metadata": {},
   "outputs": [],
   "source": [
    "# Define the CNOT gate (control is qubit 1)\n",
    "A = np.array(\n",
    "    [\n",
    "        [1., 0., 0., 0.],\n",
    "        [0., 1., 0., 0.],\n",
    "        [0., 0., 0., 1.],\n",
    "        [0., 0., 1., 0.],\n",
    "    ],\n",
    ")\n",
    "\n",
    "# Define the double (parallel) Hadamards\n",
    "B = 0.5 * np.array(\n",
    "    [\n",
    "        [1., 1., 1., 1.],\n",
    "        [1., -1., 1., -1.],\n",
    "        [1., 1., -1., -1.],\n",
    "        [1., -1., -1., 1.],\n",
    "    ],\n",
    ")\n",
    "\n",
    "# Define the CNOT with qubit 2 as control\n",
    "C = np.array(\n",
    "    [\n",
    "        [1., 0., 0., 0.],\n",
    "        [0., 0., 0., 1.],\n",
    "        [0., 0., 1., 0.],\n",
    "        [0., 1., 0., 0.],\n",
    "    ]\n",
    ")\n",
    "\n",
    "# Define the SWAP gate\n",
    "S = np.array(\n",
    "    [\n",
    "        [1., 0., 0., 0.],\n",
    "        [0., 0., 1., 0.],\n",
    "        [0., 1., 0., 0.],\n",
    "        [0., 0., 0., 1.],\n",
    "    ]\n",
    ")\n",
    "\n",
    "# Precalculate inverse of these matrices for cleaner code later\n",
    "B_inv = np.linalg.inv(B)\n",
    "C_inv = np.linalg.inv(C)"
   ]
  },
  {
   "cell_type": "code",
   "execution_count": 4,
   "metadata": {},
   "outputs": [
    {
     "name": "stdout",
     "output_type": "stream",
     "text": [
      "The final form of U: \n",
      "[[1. +0.j  0. +0.j  0. +0.j  0. +0.j ]\n",
      " [0. +0.j  0. +0.j  0. +0.j  1. +0.j ]\n",
      " [0. +0.j  0.5-0.5j 0.5+0.5j 0. +0.j ]\n",
      " [0. +0.j  0.5+0.5j 0.5-0.5j 0. +0.j ]]\n"
     ]
    }
   ],
   "source": [
    "U = np.matmul(S, B_inv)\n",
    "for mat in [A, B_inv, C]:\n",
    "    U = np.matmul(mat, U)\n",
    "U = np.matmul(C_inv, sqrtm(U))\n",
    "\n",
    "print(f\"The final form of U: \\n{U}\")"
   ]
  },
  {
   "cell_type": "code",
   "execution_count": 13,
   "metadata": {},
   "outputs": [
    {
     "name": "stdout",
     "output_type": "stream",
     "text": [
      "Our final circuit with U in it: \n",
      "[[1.+0.j 0.+0.j 0.-0.j 0.+0.j]\n",
      " [0.+0.j 0.+0.j 1.+0.j 0.-0.j]\n",
      " [0.-0.j 1.+0.j 0.+0.j 0.+0.j]\n",
      " [0.+0.j 0.-0.j 0.+0.j 1.+0.j]]\n",
      "Compare to SWAP gate: \n",
      "[[1. 0. 0. 0.]\n",
      " [0. 0. 1. 0.]\n",
      " [0. 1. 0. 0.]\n",
      " [0. 0. 0. 1.]]\n"
     ]
    }
   ],
   "source": [
    "circuit = np.matmul(U, B)\n",
    "for mat in [C, U, B, A]:\n",
    "    circuit = np.matmul(mat, circuit)\n",
    "print(f\"Our final circuit with U in it: \\n{circuit.round()}\")\n",
    "print(f\"Compare to SWAP gate: \\n{S}\")"
   ]
  },
  {
   "cell_type": "code",
   "execution_count": null,
   "metadata": {},
   "outputs": [],
   "source": []
  },
  {
   "cell_type": "code",
   "execution_count": null,
   "metadata": {},
   "outputs": [],
   "source": []
  }
 ],
 "metadata": {
  "kernelspec": {
   "display_name": "base",
   "language": "python",
   "name": "python3"
  },
  "language_info": {
   "codemirror_mode": {
    "name": "ipython",
    "version": 3
   },
   "file_extension": ".py",
   "mimetype": "text/x-python",
   "name": "python",
   "nbconvert_exporter": "python",
   "pygments_lexer": "ipython3",
   "version": "3.11.5"
  }
 },
 "nbformat": 4,
 "nbformat_minor": 2
}
